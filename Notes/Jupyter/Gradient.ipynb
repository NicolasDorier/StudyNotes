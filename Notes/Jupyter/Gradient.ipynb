{
 "cells": [
  {
   "cell_type": "code",
   "execution_count": 1,
   "metadata": {
    "collapsed": true
   },
   "outputs": [],
   "source": [
    "import math\n",
    "import numpy as np\n",
    "import matplotlib.pyplot as plt\n",
    "%matplotlib inline"
   ]
  },
  {
   "cell_type": "code",
   "execution_count": 2,
   "outputs": [],
   "source": [
    "def f(x):\n",
    "    return 3*x**2 - 4*x + 5"
   ],
   "metadata": {
    "collapsed": false
   }
  },
  {
   "cell_type": "code",
   "execution_count": 3,
   "outputs": [
    {
     "data": {
      "text/plain": "20.0"
     },
     "execution_count": 3,
     "metadata": {},
     "output_type": "execute_result"
    }
   ],
   "source": [
    "f(3.0)"
   ],
   "metadata": {
    "collapsed": false
   }
  },
  {
   "cell_type": "code",
   "execution_count": 4,
   "outputs": [
    {
     "data": {
      "text/plain": "[<matplotlib.lines.Line2D at 0x258b788ceb0>]"
     },
     "execution_count": 4,
     "metadata": {},
     "output_type": "execute_result"
    },
    {
     "data": {
      "text/plain": "<Figure size 640x480 with 1 Axes>",
      "image/png": "[encoded data removed]"
     },
     "metadata": {},
     "output_type": "display_data"
    }
   ],
   "source": [
    "xs = np.arange(-5, 5, 0.25)\n",
    "ys = f(xs)\n",
    "plt.plot(xs, ys)"
   ],
   "metadata": {
    "collapsed": false
   }
  },
  {
   "cell_type": "code",
   "execution_count": 52,
   "outputs": [],
   "source": [
    "from graphviz import Digraph\n",
    "\n",
    "def trace(root):\n",
    "    # builds a set of all nodes and edges in a graph\n",
    "    nodes, edges = set(), set()\n",
    "    def build(v):\n",
    "        if v not in nodes:\n",
    "            nodes.add(v)\n",
    "            for child in v._prev:\n",
    "                edges.add((child, v))\n",
    "                build(child)\n",
    "    build(root)\n",
    "    return nodes, edges\n",
    "\n",
    "def draw_dot(root):\n",
    "    dot = Digraph(format='svg', graph_attr={'rankdir': 'LR'}) # LR = left to right\n",
    "\n",
    "    nodes, edges = trace(root)\n",
    "    for n in nodes:\n",
    "        uid = str(id(n))\n",
    "        # for any value in the graph, create a rectangular ('record') node for it\n",
    "        dot.node(name = uid, label = \"{ %s | data %.4f | grad %.4f }\" % (n.label, n.data, n.grad), shape='record')\n",
    "        #dot.node(name = uid, label = \"{ %s | data %.4f }\" % (n.label, n.data), shape='record')\n",
    "        #dot.node(name = uid, label = \"{ %s }\" % (n.label), shape='record')\n",
    "        if n._op:\n",
    "            # if this value is a result of some operation, create an op node for it\n",
    "            dot.node(name = uid + n._op, label = n._op)\n",
    "            # and connect this node to it\n",
    "            dot.edge(uid + n._op, uid)\n",
    "\n",
    "    for n1, n2 in edges:\n",
    "        # connect n1 to the op node of n2\n",
    "        dot.edge(str(id(n1)), str(id(n2)) + n2._op)\n",
    "\n",
    "    return dot"
   ],
   "metadata": {
    "collapsed": false
   }
  },
  {
   "cell_type": "code",
   "execution_count": 46,
   "outputs": [
    {
     "data": {
      "text/plain": "Value(data=-8.0)"
     },
     "execution_count": 46,
     "metadata": {},
     "output_type": "execute_result"
    }
   ],
   "source": [
    "class Value:\n",
    "\n",
    "    def __init__(self, data, _children=(), _op='', label=''):\n",
    "        self.data = data\n",
    "        self.grad = 0.0\n",
    "        self._backward = lambda: None\n",
    "        self._prev = set(_children)\n",
    "        self._op = _op\n",
    "        self.label = label\n",
    "\n",
    "    def __repr__(self):\n",
    "        return f\"Value(data={self.data})\"\n",
    "\n",
    "    def __add__(self, other):\n",
    "        out = Value(self.data + other.data, (self, other), '+')\n",
    "\n",
    "        def _backward():\n",
    "            self.grad += 1.0 * out.grad\n",
    "            other.grad += 1.0 * out.grad\n",
    "        out._backward = _backward\n",
    "\n",
    "        return out\n",
    "\n",
    "    def __mul__(self, other):\n",
    "        out = Value(self.data * other.data, (self, other), '*')\n",
    "\n",
    "        def _backward():\n",
    "            self.grad += other.data * out.grad\n",
    "            other.grad += self.data * out.grad\n",
    "        out._backward = _backward\n",
    "\n",
    "        return out\n",
    "\n",
    "    def tanh(self):\n",
    "        x = self.data\n",
    "        t = (math.exp(2*x) - 1)/(math.exp(2*x) + 1)\n",
    "        out = Value(t, (self, ), 'tanh')\n",
    "\n",
    "        def _backward():\n",
    "            self.grad += (1 - t**2) * out.grad\n",
    "        out._backward = _backward\n",
    "\n",
    "        return out\n",
    "\n",
    "    def backward(self):\n",
    "\n",
    "        topo = []\n",
    "        visited = set()\n",
    "        def build_topo(v):\n",
    "            if v not in visited:\n",
    "                visited.add(v)\n",
    "                for child in v._prev:\n",
    "                    build_topo(child)\n",
    "                topo.append(v)\n",
    "        build_topo(self)\n",
    "\n",
    "        self.grad = 1.0\n",
    "        for node in reversed(topo):\n",
    "            node._backward()\n",
    "\n",
    "\n",
    "\n",
    "x_1 = Value(2.0, label='x_1')\n",
    "x_2 = Value(-3.0, label='x_2')\n",
    "x_3 = Value(10.0, label='x_3')\n",
    "e = x_1*x_2; e.label = 'e'\n",
    "d = e + x_3; d.label = 'd'\n",
    "x_4 = Value(-2.0, label='x_4')\n",
    "L = d * x_4; L.label = 'L'\n",
    "L"
   ],
   "metadata": {
    "collapsed": false
   }
  },
  {
   "cell_type": "code",
   "execution_count": 53,
   "outputs": [
    {
     "data": {
      "image/svg+xml": "<?xml version=\"1.0\" encoding=\"UTF-8\" standalone=\"no\"?>\n<!DOCTYPE svg PUBLIC \"-//W3C//DTD SVG 1.1//EN\"\n \"http://www.w3.org/Graphics/SVG/1.1/DTD/svg11.dtd\">\n<!-- Generated by graphviz version 8.0.2 (20230410.1723)\n -->\n<!-- Pages: 1 -->\n<svg width=\"1203pt\" height=\"156pt\"\n viewBox=\"0.00 0.00 1203.00 156.00\" xmlns=\"http://www.w3.org/2000/svg\" xmlns:xlink=\"http://www.w3.org/1999/xlink\">\n<g id=\"graph0\" class=\"graph\" transform=\"scale(1 1) rotate(0) translate(4 152)\">\n<polygon fill=\"white\" stroke=\"none\" points=\"-4,4 -4,-152 1199,-152 1199,4 -4,4\"/>\n<!-- 2580112927808 -->\n<g id=\"node1\" class=\"node\">\n<title>2580112927808</title>\n<polygon fill=\"none\" stroke=\"black\" points=\"2.5,-111.5 2.5,-147.5 204.5,-147.5 204.5,-111.5 2.5,-111.5\"/>\n<text text-anchor=\"middle\" x=\"21.5\" y=\"-125.8\" font-family=\"Times New Roman,serif\" font-size=\"14.00\">x_1</text>\n<polyline fill=\"none\" stroke=\"black\" points=\"40.5,-111.5 40.5,-147.5\"/>\n<text text-anchor=\"middle\" x=\"81\" y=\"-125.8\" font-family=\"Times New Roman,serif\" font-size=\"14.00\">data 2.0000</text>\n<polyline fill=\"none\" stroke=\"black\" points=\"121.5,-111.5 121.5,-147.5\"/>\n<text text-anchor=\"middle\" x=\"163\" y=\"-125.8\" font-family=\"Times New Roman,serif\" font-size=\"14.00\">grad 0.0000</text>\n</g>\n<!-- 2580112925552* -->\n<g id=\"node8\" class=\"node\">\n<title>2580112925552*</title>\n<ellipse fill=\"none\" stroke=\"black\" cx=\"270\" cy=\"-101.5\" rx=\"27\" ry=\"18\"/>\n<text text-anchor=\"middle\" x=\"270\" y=\"-97.8\" font-family=\"Times New Roman,serif\" font-size=\"14.00\">*</text>\n</g>\n<!-- 2580112927808&#45;&gt;2580112925552* -->\n<g id=\"edge4\" class=\"edge\">\n<title>2580112927808&#45;&gt;2580112925552*</title>\n<path fill=\"none\" stroke=\"black\" d=\"M204.46,-112.49C214.47,-110.78 224.11,-109.14 232.76,-107.67\"/>\n<polygon fill=\"black\" stroke=\"black\" points=\"233.22,-110.97 242.49,-105.84 232.04,-104.07 233.22,-110.97\"/>\n</g>\n<!-- 2580112927856 -->\n<g id=\"node2\" class=\"node\">\n<title>2580112927856</title>\n<polygon fill=\"none\" stroke=\"black\" points=\"333,-28.5 333,-64.5 542,-64.5 542,-28.5 333,-28.5\"/>\n<text text-anchor=\"middle\" x=\"352\" y=\"-42.8\" font-family=\"Times New Roman,serif\" font-size=\"14.00\">x_3</text>\n<polyline fill=\"none\" stroke=\"black\" points=\"371,-28.5 371,-64.5\"/>\n<text text-anchor=\"middle\" x=\"415\" y=\"-42.8\" font-family=\"Times New Roman,serif\" font-size=\"14.00\">data 10.0000</text>\n<polyline fill=\"none\" stroke=\"black\" points=\"459,-28.5 459,-64.5\"/>\n<text text-anchor=\"middle\" x=\"500.5\" y=\"-42.8\" font-family=\"Times New Roman,serif\" font-size=\"14.00\">grad 0.0000</text>\n</g>\n<!-- 2580112927616+ -->\n<g id=\"node10\" class=\"node\">\n<title>2580112927616+</title>\n<ellipse fill=\"none\" stroke=\"black\" cx=\"605\" cy=\"-73.5\" rx=\"27\" ry=\"18\"/>\n<text text-anchor=\"middle\" x=\"605\" y=\"-69.8\" font-family=\"Times New Roman,serif\" font-size=\"14.00\">+</text>\n</g>\n<!-- 2580112927856&#45;&gt;2580112927616+ -->\n<g id=\"edge8\" class=\"edge\">\n<title>2580112927856&#45;&gt;2580112927616+</title>\n<path fill=\"none\" stroke=\"black\" d=\"M541.9,-63.37C551.05,-64.86 559.84,-66.3 567.78,-67.59\"/>\n<polygon fill=\"black\" stroke=\"black\" points=\"566.96,-71.17 577.39,-69.32 568.09,-64.26 566.96,-71.17\"/>\n</g>\n<!-- 2580112928480 -->\n<g id=\"node3\" class=\"node\">\n<title>2580112928480</title>\n<polygon fill=\"none\" stroke=\"black\" points=\"668,-0.5 668,-36.5 875,-36.5 875,-0.5 668,-0.5\"/>\n<text text-anchor=\"middle\" x=\"687\" y=\"-14.8\" font-family=\"Times New Roman,serif\" font-size=\"14.00\">x_4</text>\n<polyline fill=\"none\" stroke=\"black\" points=\"706,-0.5 706,-36.5\"/>\n<text text-anchor=\"middle\" x=\"749\" y=\"-14.8\" font-family=\"Times New Roman,serif\" font-size=\"14.00\">data &#45;2.0000</text>\n<polyline fill=\"none\" stroke=\"black\" points=\"792,-0.5 792,-36.5\"/>\n<text text-anchor=\"middle\" x=\"833.5\" y=\"-14.8\" font-family=\"Times New Roman,serif\" font-size=\"14.00\">grad 0.0000</text>\n</g>\n<!-- 2580112928528* -->\n<g id=\"node5\" class=\"node\">\n<title>2580112928528*</title>\n<ellipse fill=\"none\" stroke=\"black\" cx=\"938\" cy=\"-45.5\" rx=\"27\" ry=\"18\"/>\n<text text-anchor=\"middle\" x=\"938\" y=\"-41.8\" font-family=\"Times New Roman,serif\" font-size=\"14.00\">*</text>\n</g>\n<!-- 2580112928480&#45;&gt;2580112928528* -->\n<g id=\"edge6\" class=\"edge\">\n<title>2580112928480&#45;&gt;2580112928528*</title>\n<path fill=\"none\" stroke=\"black\" d=\"M874.81,-35.29C883.96,-36.79 892.75,-38.24 900.71,-39.54\"/>\n<polygon fill=\"black\" stroke=\"black\" points=\"899.9,-43.12 910.33,-41.29 901.03,-36.21 899.9,-43.12\"/>\n</g>\n<!-- 2580112928528 -->\n<g id=\"node4\" class=\"node\">\n<title>2580112928528</title>\n<polygon fill=\"none\" stroke=\"black\" points=\"1001,-27.5 1001,-63.5 1195,-63.5 1195,-27.5 1001,-27.5\"/>\n<text text-anchor=\"middle\" x=\"1013.5\" y=\"-41.8\" font-family=\"Times New Roman,serif\" font-size=\"14.00\">L</text>\n<polyline fill=\"none\" stroke=\"black\" points=\"1026,-27.5 1026,-63.5\"/>\n<text text-anchor=\"middle\" x=\"1069\" y=\"-41.8\" font-family=\"Times New Roman,serif\" font-size=\"14.00\">data &#45;8.0000</text>\n<polyline fill=\"none\" stroke=\"black\" points=\"1112,-27.5 1112,-63.5\"/>\n<text text-anchor=\"middle\" x=\"1153.5\" y=\"-41.8\" font-family=\"Times New Roman,serif\" font-size=\"14.00\">grad 0.0000</text>\n</g>\n<!-- 2580112928528*&#45;&gt;2580112928528 -->\n<g id=\"edge1\" class=\"edge\">\n<title>2580112928528*&#45;&gt;2580112928528</title>\n<path fill=\"none\" stroke=\"black\" d=\"M965.45,-45.5C972.83,-45.5 981.34,-45.5 990.41,-45.5\"/>\n<polygon fill=\"black\" stroke=\"black\" points=\"990.27,-49 1000.27,-45.5 990.27,-42 990.27,-49\"/>\n</g>\n<!-- 2580112925504 -->\n<g id=\"node6\" class=\"node\">\n<title>2580112925504</title>\n<polygon fill=\"none\" stroke=\"black\" points=\"0,-56.5 0,-92.5 207,-92.5 207,-56.5 0,-56.5\"/>\n<text text-anchor=\"middle\" x=\"19\" y=\"-70.8\" font-family=\"Times New Roman,serif\" font-size=\"14.00\">x_2</text>\n<polyline fill=\"none\" stroke=\"black\" points=\"38,-56.5 38,-92.5\"/>\n<text text-anchor=\"middle\" x=\"81\" y=\"-70.8\" font-family=\"Times New Roman,serif\" font-size=\"14.00\">data &#45;3.0000</text>\n<polyline fill=\"none\" stroke=\"black\" points=\"124,-56.5 124,-92.5\"/>\n<text text-anchor=\"middle\" x=\"165.5\" y=\"-70.8\" font-family=\"Times New Roman,serif\" font-size=\"14.00\">grad 0.0000</text>\n</g>\n<!-- 2580112925504&#45;&gt;2580112925552* -->\n<g id=\"edge9\" class=\"edge\">\n<title>2580112925504&#45;&gt;2580112925552*</title>\n<path fill=\"none\" stroke=\"black\" d=\"M206.81,-91.29C215.96,-92.79 224.75,-94.24 232.71,-95.54\"/>\n<polygon fill=\"black\" stroke=\"black\" points=\"231.9,-99.12 242.33,-97.29 233.03,-92.21 231.9,-99.12\"/>\n</g>\n<!-- 2580112925552 -->\n<g id=\"node7\" class=\"node\">\n<title>2580112925552</title>\n<polygon fill=\"none\" stroke=\"black\" points=\"341.5,-83.5 341.5,-119.5 533.5,-119.5 533.5,-83.5 341.5,-83.5\"/>\n<text text-anchor=\"middle\" x=\"353\" y=\"-97.8\" font-family=\"Times New Roman,serif\" font-size=\"14.00\">e</text>\n<polyline fill=\"none\" stroke=\"black\" points=\"364.5,-83.5 364.5,-119.5\"/>\n<text text-anchor=\"middle\" x=\"407.5\" y=\"-97.8\" font-family=\"Times New Roman,serif\" font-size=\"14.00\">data &#45;6.0000</text>\n<polyline fill=\"none\" stroke=\"black\" points=\"450.5,-83.5 450.5,-119.5\"/>\n<text text-anchor=\"middle\" x=\"492\" y=\"-97.8\" font-family=\"Times New Roman,serif\" font-size=\"14.00\">grad 0.0000</text>\n</g>\n<!-- 2580112925552&#45;&gt;2580112927616+ -->\n<g id=\"edge5\" class=\"edge\">\n<title>2580112925552&#45;&gt;2580112927616+</title>\n<path fill=\"none\" stroke=\"black\" d=\"M533.33,-85.46C545.53,-83.39 557.37,-81.39 567.76,-79.63\"/>\n<polygon fill=\"black\" stroke=\"black\" points=\"568.14,-82.95 577.42,-77.83 566.98,-76.05 568.14,-82.95\"/>\n</g>\n<!-- 2580112925552*&#45;&gt;2580112925552 -->\n<g id=\"edge2\" class=\"edge\">\n<title>2580112925552*&#45;&gt;2580112925552</title>\n<path fill=\"none\" stroke=\"black\" d=\"M297.22,-101.5C306.81,-101.5 318.34,-101.5 330.6,-101.5\"/>\n<polygon fill=\"black\" stroke=\"black\" points=\"330.54,-105 340.54,-101.5 330.54,-98 330.54,-105\"/>\n</g>\n<!-- 2580112927616 -->\n<g id=\"node9\" class=\"node\">\n<title>2580112927616</title>\n<polygon fill=\"none\" stroke=\"black\" points=\"677.5,-55.5 677.5,-91.5 865.5,-91.5 865.5,-55.5 677.5,-55.5\"/>\n<text text-anchor=\"middle\" x=\"689.5\" y=\"-69.8\" font-family=\"Times New Roman,serif\" font-size=\"14.00\">d</text>\n<polyline fill=\"none\" stroke=\"black\" points=\"701.5,-55.5 701.5,-91.5\"/>\n<text text-anchor=\"middle\" x=\"742\" y=\"-69.8\" font-family=\"Times New Roman,serif\" font-size=\"14.00\">data 4.0000</text>\n<polyline fill=\"none\" stroke=\"black\" points=\"782.5,-55.5 782.5,-91.5\"/>\n<text text-anchor=\"middle\" x=\"824\" y=\"-69.8\" font-family=\"Times New Roman,serif\" font-size=\"14.00\">grad 0.0000</text>\n</g>\n<!-- 2580112927616&#45;&gt;2580112928528* -->\n<g id=\"edge7\" class=\"edge\">\n<title>2580112927616&#45;&gt;2580112928528*</title>\n<path fill=\"none\" stroke=\"black\" d=\"M865.33,-57.7C877.88,-55.56 890.09,-53.48 900.78,-51.67\"/>\n<polygon fill=\"black\" stroke=\"black\" points=\"901.04,-55 910.31,-49.87 899.86,-48.1 901.04,-55\"/>\n</g>\n<!-- 2580112927616+&#45;&gt;2580112927616 -->\n<g id=\"edge3\" class=\"edge\">\n<title>2580112927616+&#45;&gt;2580112927616</title>\n<path fill=\"none\" stroke=\"black\" d=\"M632.43,-73.5C642.29,-73.5 654.18,-73.5 666.8,-73.5\"/>\n<polygon fill=\"black\" stroke=\"black\" points=\"666.53,-77 676.53,-73.5 666.53,-70 666.53,-77\"/>\n</g>\n</g>\n</svg>\n",
      "text/plain": "<graphviz.graphs.Digraph at 0x258bab65af0>"
     },
     "execution_count": 53,
     "metadata": {},
     "output_type": "execute_result"
    }
   ],
   "source": [
    "draw_dot(L)"
   ],
   "metadata": {
    "collapsed": false
   }
  },
  {
   "cell_type": "code",
   "execution_count": 55,
   "outputs": [],
   "source": [
    "L.backward()"
   ],
   "metadata": {
    "collapsed": false
   }
  },
  {
   "cell_type": "code",
   "execution_count": 23,
   "outputs": [
    {
     "data": {
      "image/svg+xml": "<?xml version=\"1.0\" encoding=\"UTF-8\" standalone=\"no\"?>\n<!DOCTYPE svg PUBLIC \"-//W3C//DTD SVG 1.1//EN\"\n \"http://www.w3.org/Graphics/SVG/1.1/DTD/svg11.dtd\">\n<!-- Generated by graphviz version 8.0.2 (20230410.1723)\n -->\n<!-- Pages: 1 -->\n<svg width=\"820pt\" height=\"128pt\"\n viewBox=\"0.00 0.00 820.00 128.00\" xmlns=\"http://www.w3.org/2000/svg\" xmlns:xlink=\"http://www.w3.org/1999/xlink\">\n<g id=\"graph0\" class=\"graph\" transform=\"scale(1 1) rotate(0) translate(4 124)\">\n<polygon fill=\"white\" stroke=\"none\" points=\"-4,4 -4,-124 816,-124 816,4 -4,4\"/>\n<!-- 2580068668944 -->\n<g id=\"node1\" class=\"node\">\n<title>2580068668944</title>\n<polygon fill=\"none\" stroke=\"black\" points=\"231,-83.5 231,-119.5 342,-119.5 342,-83.5 231,-83.5\"/>\n<text text-anchor=\"middle\" x=\"242.5\" y=\"-97.8\" font-family=\"Times New Roman,serif\" font-size=\"14.00\">c</text>\n<polyline fill=\"none\" stroke=\"black\" points=\"254,-83.5 254,-119.5\"/>\n<text text-anchor=\"middle\" x=\"298\" y=\"-97.8\" font-family=\"Times New Roman,serif\" font-size=\"14.00\">data 10.0000</text>\n</g>\n<!-- 2580068695776+ -->\n<g id=\"node4\" class=\"node\">\n<title>2580068695776+</title>\n<ellipse fill=\"none\" stroke=\"black\" cx=\"405\" cy=\"-73.5\" rx=\"27\" ry=\"18\"/>\n<text text-anchor=\"middle\" x=\"405\" y=\"-69.8\" font-family=\"Times New Roman,serif\" font-size=\"14.00\">+</text>\n</g>\n<!-- 2580068668944&#45;&gt;2580068695776+ -->\n<g id=\"edge7\" class=\"edge\">\n<title>2580068668944&#45;&gt;2580068695776+</title>\n<path fill=\"none\" stroke=\"black\" d=\"M342,-88.4C351.06,-86.22 360.24,-84.02 368.66,-81.99\"/>\n<polygon fill=\"black\" stroke=\"black\" points=\"369.31,-85.2 378.22,-79.46 367.67,-78.39 369.31,-85.2\"/>\n</g>\n<!-- 2580068670000 -->\n<g id=\"node2\" class=\"node\">\n<title>2580068670000</title>\n<polygon fill=\"none\" stroke=\"black\" points=\"0,-56.5 0,-92.5 105,-92.5 105,-56.5 0,-56.5\"/>\n<text text-anchor=\"middle\" x=\"12\" y=\"-70.8\" font-family=\"Times New Roman,serif\" font-size=\"14.00\">b</text>\n<polyline fill=\"none\" stroke=\"black\" points=\"24,-56.5 24,-92.5\"/>\n<text text-anchor=\"middle\" x=\"64.5\" y=\"-70.8\" font-family=\"Times New Roman,serif\" font-size=\"14.00\">data 0.0000</text>\n</g>\n<!-- 2580068695968* -->\n<g id=\"node8\" class=\"node\">\n<title>2580068695968*</title>\n<ellipse fill=\"none\" stroke=\"black\" cx=\"168\" cy=\"-46.5\" rx=\"27\" ry=\"18\"/>\n<text text-anchor=\"middle\" x=\"168\" y=\"-42.8\" font-family=\"Times New Roman,serif\" font-size=\"14.00\">*</text>\n</g>\n<!-- 2580068670000&#45;&gt;2580068695968* -->\n<g id=\"edge5\" class=\"edge\">\n<title>2580068670000&#45;&gt;2580068695968*</title>\n<path fill=\"none\" stroke=\"black\" d=\"M104.94,-61.81C113.99,-59.58 123.23,-57.3 131.71,-55.21\"/>\n<polygon fill=\"black\" stroke=\"black\" points=\"132.48,-58.37 141.35,-52.58 130.81,-51.58 132.48,-58.37\"/>\n</g>\n<!-- 2580068695776 -->\n<g id=\"node3\" class=\"node\">\n<title>2580068695776</title>\n<polygon fill=\"none\" stroke=\"black\" points=\"469,-55.5 469,-91.5 574,-91.5 574,-55.5 469,-55.5\"/>\n<text text-anchor=\"middle\" x=\"481\" y=\"-69.8\" font-family=\"Times New Roman,serif\" font-size=\"14.00\">d</text>\n<polyline fill=\"none\" stroke=\"black\" points=\"493,-55.5 493,-91.5\"/>\n<text text-anchor=\"middle\" x=\"533.5\" y=\"-69.8\" font-family=\"Times New Roman,serif\" font-size=\"14.00\">data 4.0000</text>\n</g>\n<!-- 2580068696016* -->\n<g id=\"node10\" class=\"node\">\n<title>2580068696016*</title>\n<ellipse fill=\"none\" stroke=\"black\" cx=\"638\" cy=\"-45.5\" rx=\"27\" ry=\"18\"/>\n<text text-anchor=\"middle\" x=\"638\" y=\"-41.8\" font-family=\"Times New Roman,serif\" font-size=\"14.00\">*</text>\n</g>\n<!-- 2580068695776&#45;&gt;2580068696016* -->\n<g id=\"edge4\" class=\"edge\">\n<title>2580068695776&#45;&gt;2580068696016*</title>\n<path fill=\"none\" stroke=\"black\" d=\"M573.72,-60.97C583.1,-58.68 592.7,-56.33 601.49,-54.18\"/>\n<polygon fill=\"black\" stroke=\"black\" points=\"602.24,-57.36 611.12,-51.58 600.57,-50.56 602.24,-57.36\"/>\n</g>\n<!-- 2580068695776+&#45;&gt;2580068695776 -->\n<g id=\"edge1\" class=\"edge\">\n<title>2580068695776+&#45;&gt;2580068695776</title>\n<path fill=\"none\" stroke=\"black\" d=\"M432.27,-73.5C440.15,-73.5 449.14,-73.5 458.31,-73.5\"/>\n<polygon fill=\"black\" stroke=\"black\" points=\"458.09,-77 468.09,-73.5 458.09,-70 458.09,-77\"/>\n</g>\n<!-- 2580068695824 -->\n<g id=\"node5\" class=\"node\">\n<title>2580068695824</title>\n<polygon fill=\"none\" stroke=\"black\" points=\"468,-0.5 468,-36.5 575,-36.5 575,-0.5 468,-0.5\"/>\n<text text-anchor=\"middle\" x=\"478.5\" y=\"-14.8\" font-family=\"Times New Roman,serif\" font-size=\"14.00\">f</text>\n<polyline fill=\"none\" stroke=\"black\" points=\"489,-0.5 489,-36.5\"/>\n<text text-anchor=\"middle\" x=\"532\" y=\"-14.8\" font-family=\"Times New Roman,serif\" font-size=\"14.00\">data &#45;2.0000</text>\n</g>\n<!-- 2580068695824&#45;&gt;2580068696016* -->\n<g id=\"edge8\" class=\"edge\">\n<title>2580068695824&#45;&gt;2580068696016*</title>\n<path fill=\"none\" stroke=\"black\" d=\"M574.72,-30.81C583.75,-32.94 592.94,-35.11 601.39,-37.1\"/>\n<polygon fill=\"black\" stroke=\"black\" points=\"600.46,-40.72 611,-39.6 602.07,-33.9 600.46,-40.72\"/>\n</g>\n<!-- 2580068669280 -->\n<g id=\"node6\" class=\"node\">\n<title>2580068669280</title>\n<polygon fill=\"none\" stroke=\"black\" points=\"0.5,-1.5 0.5,-37.5 104.5,-37.5 104.5,-1.5 0.5,-1.5\"/>\n<text text-anchor=\"middle\" x=\"12\" y=\"-15.8\" font-family=\"Times New Roman,serif\" font-size=\"14.00\">a</text>\n<polyline fill=\"none\" stroke=\"black\" points=\"23.5,-1.5 23.5,-37.5\"/>\n<text text-anchor=\"middle\" x=\"64\" y=\"-15.8\" font-family=\"Times New Roman,serif\" font-size=\"14.00\">data 2.0000</text>\n</g>\n<!-- 2580068669280&#45;&gt;2580068695968* -->\n<g id=\"edge9\" class=\"edge\">\n<title>2580068669280&#45;&gt;2580068695968*</title>\n<path fill=\"none\" stroke=\"black\" d=\"M104.27,-31.58C113.49,-33.77 122.91,-36.01 131.57,-38.07\"/>\n<polygon fill=\"black\" stroke=\"black\" points=\"130.5,-41.65 141.04,-40.56 132.12,-34.84 130.5,-41.65\"/>\n</g>\n<!-- 2580068695968 -->\n<g id=\"node7\" class=\"node\">\n<title>2580068695968</title>\n<polygon fill=\"none\" stroke=\"black\" points=\"232,-28.5 232,-64.5 341,-64.5 341,-28.5 232,-28.5\"/>\n<text text-anchor=\"middle\" x=\"243.5\" y=\"-42.8\" font-family=\"Times New Roman,serif\" font-size=\"14.00\">e</text>\n<polyline fill=\"none\" stroke=\"black\" points=\"255,-28.5 255,-64.5\"/>\n<text text-anchor=\"middle\" x=\"298\" y=\"-42.8\" font-family=\"Times New Roman,serif\" font-size=\"14.00\">data &#45;6.0000</text>\n</g>\n<!-- 2580068695968&#45;&gt;2580068695776+ -->\n<g id=\"edge6\" class=\"edge\">\n<title>2580068695968&#45;&gt;2580068695776+</title>\n<path fill=\"none\" stroke=\"black\" d=\"M340.98,-58.89C350.31,-61.06 359.81,-63.26 368.51,-65.28\"/>\n<polygon fill=\"black\" stroke=\"black\" points=\"367.5,-68.86 378.03,-67.71 369.08,-62.05 367.5,-68.86\"/>\n</g>\n<!-- 2580068695968*&#45;&gt;2580068695968 -->\n<g id=\"edge2\" class=\"edge\">\n<title>2580068695968*&#45;&gt;2580068695968</title>\n<path fill=\"none\" stroke=\"black\" d=\"M195.44,-46.5C203.25,-46.5 212.17,-46.5 221.29,-46.5\"/>\n<polygon fill=\"black\" stroke=\"black\" points=\"221.03,-50 231.03,-46.5 221.03,-43 221.03,-50\"/>\n</g>\n<!-- 2580068696016 -->\n<g id=\"node9\" class=\"node\">\n<title>2580068696016</title>\n<polygon fill=\"none\" stroke=\"black\" points=\"701,-27.5 701,-63.5 812,-63.5 812,-27.5 701,-27.5\"/>\n<text text-anchor=\"middle\" x=\"713.5\" y=\"-41.8\" font-family=\"Times New Roman,serif\" font-size=\"14.00\">L</text>\n<polyline fill=\"none\" stroke=\"black\" points=\"726,-27.5 726,-63.5\"/>\n<text text-anchor=\"middle\" x=\"769\" y=\"-41.8\" font-family=\"Times New Roman,serif\" font-size=\"14.00\">data &#45;8.0000</text>\n</g>\n<!-- 2580068696016*&#45;&gt;2580068696016 -->\n<g id=\"edge3\" class=\"edge\">\n<title>2580068696016*&#45;&gt;2580068696016</title>\n<path fill=\"none\" stroke=\"black\" d=\"M665.44,-45.5C672.98,-45.5 681.54,-45.5 690.32,-45.5\"/>\n<polygon fill=\"black\" stroke=\"black\" points=\"690.08,-49 700.08,-45.5 690.08,-42 690.08,-49\"/>\n</g>\n</g>\n</svg>\n",
      "text/plain": "<graphviz.graphs.Digraph at 0x258bab362b0>"
     },
     "execution_count": 23,
     "metadata": {},
     "output_type": "execute_result"
    }
   ],
   "source": [
    "\n",
    "draw_dot(L)"
   ],
   "metadata": {
    "collapsed": false
   }
  },
  {
   "cell_type": "code",
   "execution_count": 56,
   "outputs": [
    {
     "data": {
      "text/plain": "'C:\\\\Sources\\\\StudyNotes\\\\Notes\\\\Images\\\\Backprop-3.svg'"
     },
     "execution_count": 56,
     "metadata": {},
     "output_type": "execute_result"
    }
   ],
   "source": [
    "draw_dot(L).render(\"C:\\\\Sources\\\\StudyNotes\\\\Notes\\\\Images\\\\Backprop-3\")"
   ],
   "metadata": {
    "collapsed": false
   }
  },
  {
   "cell_type": "code",
   "execution_count": 35,
   "outputs": [],
   "source": [
    "L.backward()"
   ],
   "metadata": {
    "collapsed": false
   }
  },
  {
   "cell_type": "code",
   "execution_count": null,
   "outputs": [],
   "source": [],
   "metadata": {
    "collapsed": false
   }
  }
 ],
 "metadata": {
  "kernelspec": {
   "display_name": "Python 3",
   "language": "python",
   "name": "python3"
  },
  "language_info": {
   "codemirror_mode": {
    "name": "ipython",
    "version": 2
   },
   "file_extension": ".py",
   "mimetype": "text/x-python",
   "name": "python",
   "nbconvert_exporter": "python",
   "pygments_lexer": "ipython2",
   "version": "2.7.6"
  }
 },
 "nbformat": 4,
 "nbformat_minor": 0
}

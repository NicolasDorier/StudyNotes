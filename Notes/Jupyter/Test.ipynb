{
 "cells": [
  {
   "cell_type": "code",
   "execution_count": 37,
   "outputs": [
    {
     "data": {
      "text/plain": "<Figure size 640x480 with 0 Axes>"
     },
     "metadata": {},
     "output_type": "display_data"
    }
   ],
   "source": [
    "import numpy as np\n",
    "import matplotlib.pyplot as plt\n",
    "\n",
    "offsets=np.arange(-20, 20, 0.1)\n",
    "coeff = np.empty((len(offsets)))\n",
    "i = 0\n",
    "\n",
    "\n",
    "n = 10\n",
    "np.random.seed(20)\n",
    "o1 = np.random.random(n)*10\n",
    "o2=  -np.random.random(n)*10\n",
    "\n",
    "for o in offsets:\n",
    "\n",
    "    m1=np.full((len(o1)), np.average(o1))+o\n",
    "    m2=np.full((len(o2)), np.average(o2))+o\n",
    "    om1=o1-m1\n",
    "    om2=o2-m2\n",
    "    coeff[i] = np.dot(om1, om2)/(np.linalg.norm(om1) * np.linalg.norm(om2))\n",
    "    i += 1\n",
    "\n",
    "plt.plot(offsets, coeff)\n",
    "\n",
    "teta = np.arange(0, 2* np.pi, 0.1)\n",
    "p = teta * np.exp(1j*teta)\n",
    "\n",
    "plt.clf()\n",
    "\n",
    "# Generate a grid of x and y values\n",
    "x = np.linspace(-3, 3, 100)\n",
    "y = np.linspace(-3, 3, 100)\n",
    "X, Y = np.meshgrid(x, y)\n",
    "\n"
   ],
   "metadata": {
    "collapsed": false
   }
  },
  {
   "cell_type": "markdown",
   "source": [],
   "metadata": {
    "collapsed": false
   }
  }
 ],
 "metadata": {
  "kernelspec": {
   "display_name": "Python 3",
   "language": "python",
   "name": "python3"
  },
  "language_info": {
   "codemirror_mode": {
    "name": "ipython",
    "version": 2
   },
   "file_extension": ".py",
   "mimetype": "text/x-python",
   "name": "python",
   "nbconvert_exporter": "python",
   "pygments_lexer": "ipython2",
   "version": "2.7.6"
  }
 },
 "nbformat": 4,
 "nbformat_minor": 0
}
